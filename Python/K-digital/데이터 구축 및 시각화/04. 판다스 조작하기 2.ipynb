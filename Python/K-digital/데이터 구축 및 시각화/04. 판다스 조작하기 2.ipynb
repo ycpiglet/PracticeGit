{
 "cells": [
  {
   "cell_type": "code",
   "execution_count": null,
   "metadata": {},
   "outputs": [],
   "source": [
    "import pandas as pd\n",
    "import seaborn as sns\n",
    "import warnings\n",
    "warnings.filterwarnings(\"ignore\")"
   ]
  },
  {
   "cell_type": "markdown",
   "metadata": {},
   "source": [
    "# 판다스 연산"
   ]
  },
  {
   "cell_type": "markdown",
   "metadata": {},
   "source": [
    "## 시리즈 vs 숫자"
   ]
  },
  {
   "cell_type": "code",
   "execution_count": null,
   "metadata": {},
   "outputs": [],
   "source": [
    "'''\n",
    "    Series 객체 (+, -, *, /) 숫자\n",
    "'''\n",
    "import pandas as pd\n",
    "\n",
    "dict_data = {'a':100, 'b':70, 'c':50}\n",
    "series = pd.Series(dict_data)\n",
    "print(series)\n",
    "print('\\n')\n",
    "\n",
    "add_series = series + 1\n",
    "print(add_series)\n",
    "print('\\n')\n",
    "\n",
    "percent_series = series / 100\n",
    "print(percent_series)"
   ]
  },
  {
   "cell_type": "markdown",
   "metadata": {},
   "source": [
    "## 시리즈 vs 시리즈"
   ]
  },
  {
   "cell_type": "code",
   "execution_count": null,
   "metadata": {},
   "outputs": [],
   "source": [
    "import pandas as pd\n",
    "\n",
    "dict_data1 = {'a':100, 'b':70, 'c':50}\n",
    "dict_data2 = {'a':80, 'b':10, 'c':40}\n",
    "series1 = pd.Series(dict_data1)\n",
    "series2 = pd.Series(dict_data2)\n",
    "print(series1)\n",
    "print('\\n')\n",
    "print(series2)\n",
    "print('\\n')\n",
    "\n",
    "add = series1 + series2\n",
    "sub = series1 - series2\n",
    "multi = series1 * series2\n",
    "divi = series1 / series2\n",
    "\n",
    "result = pd.DataFrame([add, sub, multi, divi])\n",
    "print(result)"
   ]
  },
  {
   "cell_type": "markdown",
   "metadata": {},
   "source": [
    "## 시리즈 연산 메소드"
   ]
  },
  {
   "cell_type": "code",
   "execution_count": null,
   "metadata": {},
   "outputs": [],
   "source": [
    "import pandas as pd\n",
    "\n",
    "dict_data1 = {'a':100, 'b':70, 'c':50}\n",
    "dict_data2 = {'a':80, 'b':10, 'c':40}\n",
    "series1 = pd.Series(dict_data1)\n",
    "series2 = pd.Series(dict_data2)\n",
    "print(series1)\n",
    "print('\\n')\n",
    "print(series2)\n",
    "print('\\n')\n",
    "\n",
    "add = series1.add(series2) # series1 + series\n",
    "sub = series1.sub(series2) # series1 - series2\n",
    "multi = series1.mul(series2) # series1 * series2\n",
    "divi = series1.div(series2) # series1 / series2\n",
    "\n",
    "result = pd.DataFrame([add, sub, multi, divi])\n",
    "print(result)"
   ]
  },
  {
   "cell_type": "code",
   "execution_count": null,
   "metadata": {},
   "outputs": [],
   "source": [
    "import pandas as pd\n",
    "\n",
    "dict_data1 = {'a':100, 'b':70, 'c':50}\n",
    "dict_data2 = {'a':80, 'b':10}\n",
    "series1 = pd.Series(dict_data1)\n",
    "series2 = pd.Series(dict_data2)\n",
    "print(series1)\n",
    "print('\\n')\n",
    "print(series2)\n",
    "print('\\n')\n",
    "\n",
    "add = series1.add(series2, fill_value = 50) # series1 + series\n",
    "sub = series1.sub(series2, fill_value = 50) # series1 - series2\n",
    "multi = series1.mul(series2, fill_value = 50) # series1 * series2\n",
    "divi = series1.div(series2, fill_value = 50) # series1 / series2\n",
    "\n",
    "result = pd.DataFrame([add, sub, multi, divi])\n",
    "print(result)"
   ]
  },
  {
   "cell_type": "code",
   "execution_count": null,
   "metadata": {},
   "outputs": [],
   "source": [
    "import pandas as pd\n",
    "\n",
    "dict_data1 = {'a':100, 'b':70, 'c':50}\n",
    "dict_data2 = {'b':80, 'c':10, 'd':40}\n",
    "series1 = pd.Series(dict_data1)\n",
    "series2 = pd.Series(dict_data2)\n",
    "print(series1)\n",
    "print('\\n')\n",
    "print(series2)\n",
    "print('\\n')\n",
    "\n",
    "add = series1.add(series2) # series1 + series\n",
    "sub = series1.sub(series2) # series1 - series2\n",
    "multi = series1.mul(series2) # series1 * series2\n",
    "divi = series1.div(series2) # series1 / series2\n",
    "\n",
    "result = pd.DataFrame([add, sub, multi, divi])\n",
    "print(result)"
   ]
  },
  {
   "cell_type": "markdown",
   "metadata": {},
   "source": [
    "## 데이터 프레임 vs 숫자"
   ]
  },
  {
   "cell_type": "code",
   "execution_count": null,
   "metadata": {},
   "outputs": [],
   "source": [
    "import pandas as pd\n",
    "import seaborn as sns\n",
    "\n",
    "iris = sns.load_dataset('iris')\n",
    "print(iris.head())\n",
    "print('\\n')\n",
    "\n",
    "df = iris.loc[:, ['sepal_length', 'sepal_width']]\n",
    "print(df.head())\n",
    "print('\\n')\n",
    "\n",
    "df = df + 1.0\n",
    "print(df.head())"
   ]
  },
  {
   "cell_type": "markdown",
   "metadata": {},
   "source": [
    "## 데이터 프레임 vs 데이터 프레임"
   ]
  },
  {
   "cell_type": "code",
   "execution_count": null,
   "metadata": {},
   "outputs": [],
   "source": [
    "iris = sns.load_dataset('iris')\n",
    "df = iris.loc[:, ['sepal_length', 'sepal_width']]\n",
    "print(df.head())\n",
    "print('\\n')\n",
    "\n",
    "addtion = df + 1.0\n",
    "print(addtion.head())\n",
    "print('\\n')\n",
    "\n",
    "sub = addtion - df\n",
    "print(sub.head())"
   ]
  },
  {
   "cell_type": "code",
   "execution_count": null,
   "metadata": {},
   "outputs": [],
   "source": [
    "iris = sns.load_dataset('iris')\n",
    "df1 = iris.loc[:, ['sepal_length', 'sepal_width']]\n",
    "print(df1.head())\n",
    "print('\\n')\n",
    "\n",
    "df2 = iris.loc[:, ['sepal_length', 'petal_length']]\n",
    "print(df2.head())\n",
    "print('\\n')\n",
    "\n",
    "sub = df1 - df2\n",
    "print(sub.head())"
   ]
  },
  {
   "cell_type": "markdown",
   "metadata": {},
   "source": [
    "# 데이터프레임 구조"
   ]
  },
  {
   "cell_type": "markdown",
   "metadata": {},
   "source": [
    "## 데이터 정보 살펴보기"
   ]
  },
  {
   "cell_type": "markdown",
   "metadata": {},
   "source": [
    "### 데이터 미리보기"
   ]
  },
  {
   "cell_type": "code",
   "execution_count": null,
   "metadata": {
    "scrolled": true
   },
   "outputs": [],
   "source": [
    "'''\n",
    "    앞부분 미리보기: DataFrame.head(n)\n",
    "    뒷부분 미리보기: DataFrame.tail(n)\n",
    "'''\n",
    "import pandas as pd\n",
    "import seaborn as sns\n",
    "\n",
    "iris = sns.load_dataset('iris')\n",
    "print(iris.head())\n",
    "print('\\n')\n",
    "print(iris.tail(10))"
   ]
  },
  {
   "cell_type": "markdown",
   "metadata": {},
   "source": [
    "### 데이터프레임의 크기 (행/열)"
   ]
  },
  {
   "cell_type": "code",
   "execution_count": null,
   "metadata": {},
   "outputs": [],
   "source": [
    "'''\n",
    "    데이터프레임 크기\n",
    "    DataFrame.shape => (행, 열)\n",
    "'''\n",
    "print(iris.shape)"
   ]
  },
  {
   "cell_type": "markdown",
   "metadata": {},
   "source": [
    "### 데이터프레임 정보"
   ]
  },
  {
   "cell_type": "code",
   "execution_count": null,
   "metadata": {},
   "outputs": [],
   "source": [
    "# 데이터 내용 확인하기\n",
    "iris.info()"
   ]
  },
  {
   "cell_type": "markdown",
   "metadata": {},
   "source": [
    "### 데이터프레임 데이터 타입"
   ]
  },
  {
   "cell_type": "code",
   "execution_count": null,
   "metadata": {},
   "outputs": [],
   "source": [
    "print(iris.dtypes)\n",
    "print('\\n')\n",
    "\n",
    "print('sepal_width data_type:', iris.sepal_width.dtypes)\n",
    "print('species data_type: ', iris.species.dtypes)"
   ]
  },
  {
   "cell_type": "markdown",
   "metadata": {},
   "source": [
    "### 데이터프레임 통계 정보"
   ]
  },
  {
   "cell_type": "code",
   "execution_count": null,
   "metadata": {},
   "outputs": [],
   "source": [
    "print(iris.describe())\n",
    "print('\\n')\n",
    "print(iris.describe(include='all'))"
   ]
  },
  {
   "cell_type": "markdown",
   "metadata": {},
   "source": [
    "## 데이터 개수 확인하기"
   ]
  },
  {
   "cell_type": "markdown",
   "metadata": {},
   "source": [
    "### 열 데이터 개수 확인하기"
   ]
  },
  {
   "cell_type": "code",
   "execution_count": null,
   "metadata": {},
   "outputs": [],
   "source": [
    "'''\n",
    "    열 데이터 개수 확인보기: DataFrame.count()\n",
    "'''\n",
    "import pandas as pd\n",
    "import seaborn as sns\n",
    "\n",
    "iris = sns.load_dataset('iris')\n",
    "count_iris = iris.count()\n",
    "print(count_iris)\n",
    "print('\\n')\n",
    "print(type(count_iris))"
   ]
  },
  {
   "cell_type": "markdown",
   "metadata": {},
   "source": [
    "### 각 열의 고유값 확인하기"
   ]
  },
  {
   "cell_type": "code",
   "execution_count": null,
   "metadata": {},
   "outputs": [],
   "source": [
    "'''\n",
    "    각 열의 고유값 별 개수: DataFrame[column].value_counts()\n",
    "'''\n",
    "unique_count = iris['species'].value_counts()\n",
    "print(unique_count)\n",
    "print('\\n')\n",
    "print(type(unique_count))\n",
    "print('\\n')\n",
    "print('species 고유값 개수:', len(unique_count))"
   ]
  },
  {
   "cell_type": "markdown",
   "metadata": {},
   "source": [
    "### 각 열의 고유값 개수 확인하기"
   ]
  },
  {
   "cell_type": "code",
   "execution_count": null,
   "metadata": {
    "scrolled": false
   },
   "outputs": [],
   "source": [
    "'''\n",
    "    각 열의 고유값 총 개수: DataFrame[column].nunique()\n",
    "'''\n",
    "columns = iris.columns\n",
    "print(columns)\n",
    "print('\\n')\n",
    "for column in columns:\n",
    "    unique_count = iris[column].nunique()\n",
    "    print('{} 고유값 개수:'.format(column), unique_count)"
   ]
  },
  {
   "cell_type": "markdown",
   "metadata": {},
   "source": [
    "# 데이터 통계 추출"
   ]
  },
  {
   "cell_type": "markdown",
   "metadata": {},
   "source": [
    "### 전체 합"
   ]
  },
  {
   "cell_type": "code",
   "execution_count": null,
   "metadata": {},
   "outputs": [],
   "source": [
    "'''\n",
    "    모든 열의 합: DataFrame.sum()\n",
    "    특정 열의 합: DataFrame[column].sum()\n",
    "'''\n",
    "import pandas as pd\n",
    "import seaborn as sns\n",
    "\n",
    "iris = sns.load_dataset('iris')\n",
    "print(iris.head())\n",
    "print('\\n')\n",
    "print(iris.sum())\n",
    "print('\\n')\n",
    "print('sepal_length 총합:', iris['sepal_length'].sum())"
   ]
  },
  {
   "cell_type": "markdown",
   "metadata": {},
   "source": [
    "### 전체 평균"
   ]
  },
  {
   "cell_type": "code",
   "execution_count": null,
   "metadata": {},
   "outputs": [],
   "source": [
    "'''\n",
    "    모든 열의 평균: DataFrame.mean()\n",
    "    특정 열의 평균: DataFrame[column].mean()\n",
    "'''\n",
    "import pandas as pd\n",
    "import seaborn as sns\n",
    "\n",
    "iris = sns.load_dataset('iris')\n",
    "print(iris.head())\n",
    "print('\\n')\n",
    "print(iris.mean())\n",
    "print('\\n')\n",
    "print('sepal_length 평균:', iris['sepal_length'].mean())"
   ]
  },
  {
   "cell_type": "markdown",
   "metadata": {},
   "source": [
    "### 표준편차"
   ]
  },
  {
   "cell_type": "code",
   "execution_count": null,
   "metadata": {},
   "outputs": [],
   "source": [
    "'''\n",
    "    모든 열의 표준편차: DataFrame.std()\n",
    "    특정 열의 표준편차: DataFrame[column].std()\n",
    "'''\n",
    "print(iris.head())\n",
    "print('\\n')\n",
    "print(iris.std())\n",
    "print('\\n')\n",
    "print('sepal_width 표준편차:', iris['sepal_width'].std())"
   ]
  },
  {
   "cell_type": "markdown",
   "metadata": {},
   "source": [
    "### 중간값"
   ]
  },
  {
   "cell_type": "code",
   "execution_count": null,
   "metadata": {
    "scrolled": true
   },
   "outputs": [],
   "source": [
    "'''\n",
    "    모든 열의 중간값: DataFrame.median()\n",
    "    특정 열의 중간값: DataFrame[column].median()\n",
    "'''\n",
    "iris = sns.load_dataset('iris')\n",
    "print(iris.head())\n",
    "print('\\n')\n",
    "print(iris.median())\n",
    "print('\\n')\n",
    "print('sepal_width 중간값:', iris['sepal_width'].median())"
   ]
  },
  {
   "cell_type": "markdown",
   "metadata": {},
   "source": [
    "### 최대값, 최소값"
   ]
  },
  {
   "cell_type": "code",
   "execution_count": null,
   "metadata": {},
   "outputs": [],
   "source": [
    "'''\n",
    "    모든 열의 최대값: DataFrame.max()\n",
    "    특정 열의 최대값: DataFrame[column].max()\n",
    "'''\n",
    "print(iris.max())\n",
    "print('\\n')\n",
    "print('sepal_width 최대값:', iris['sepal_width'].max())"
   ]
  },
  {
   "cell_type": "code",
   "execution_count": null,
   "metadata": {},
   "outputs": [],
   "source": [
    "'''\n",
    "    모든 열의 최소값: DataFrame.min()\n",
    "    특정 열의 최소값: DataFrame[column].min()\n",
    "'''\n",
    "print(iris.min())\n",
    "print('\\n')\n",
    "print('sepal_width 최소값:', iris['sepal_width'].min())"
   ]
  },
  {
   "cell_type": "markdown",
   "metadata": {},
   "source": [
    "### 상관계수"
   ]
  },
  {
   "cell_type": "code",
   "execution_count": null,
   "metadata": {},
   "outputs": [],
   "source": [
    "'''\n",
    "    모든 열끼리의 상관계수: DataFrame.corr()\n",
    "    특정 열끼리의 상관계수: DataFrame[[co11, col2, ...]].corr()\n",
    "'''\n",
    "print(iris.corr())\n",
    "print('\\n')\n",
    "\n",
    "# 특정 두 열의 상관계수(sepal_length, petal_length)\n",
    "print(iris[['sepal_length', 'petal_length']].corr())"
   ]
  },
  {
   "cell_type": "markdown",
   "metadata": {},
   "source": [
    "# 데이터 입출력"
   ]
  },
  {
   "cell_type": "markdown",
   "metadata": {},
   "source": [
    "## 데이터 읽어오기"
   ]
  },
  {
   "cell_type": "markdown",
   "metadata": {},
   "source": [
    "### CSV 파일 읽어오기"
   ]
  },
  {
   "cell_type": "code",
   "execution_count": null,
   "metadata": {},
   "outputs": [],
   "source": [
    "import pandas as pd\n",
    "\n",
    "file_path = './read_sample1.csv'\n",
    "\n",
    "df1 = pd.read_csv(file_path)\n",
    "print(df1)\n",
    "print('\\n')\n",
    "\n",
    "df2 = pd.read_csv(file_path, header=None)\n",
    "print(df2)\n",
    "print('\\n')\n",
    "\n",
    "df3 = pd.read_csv(file_path, index_col='col1') \n",
    "print(df3)"
   ]
  },
  {
   "cell_type": "markdown",
   "metadata": {},
   "source": [
    "### 엑셀 파일 읽어오기"
   ]
  },
  {
   "cell_type": "code",
   "execution_count": null,
   "metadata": {},
   "outputs": [],
   "source": [
    "!pip install openpyxl"
   ]
  },
  {
   "cell_type": "code",
   "execution_count": null,
   "metadata": {},
   "outputs": [],
   "source": [
    "import pandas as pd\n",
    "\n",
    "file_path = './read_sample1.xlsx'\n",
    "\n",
    "df1 = pd.read_excel(file_path, engine='openpyxl')\n",
    "print(df1)\n",
    "print('\\n')\n",
    "\n",
    "df2 = pd.read_excel(file_path, header=None, engine='openpyxl')\n",
    "print(df2)"
   ]
  },
  {
   "cell_type": "markdown",
   "metadata": {},
   "source": [
    "### json 파일 읽어오기"
   ]
  },
  {
   "cell_type": "code",
   "execution_count": null,
   "metadata": {},
   "outputs": [],
   "source": [
    "import pandas as pd\n",
    "\n",
    "df = pd.read_json('./read_sample1.json')\n",
    "print(df)\n",
    "print('\\n')\n",
    "print(df.index)"
   ]
  },
  {
   "cell_type": "code",
   "execution_count": null,
   "metadata": {},
   "outputs": [],
   "source": [
    "df.index"
   ]
  },
  {
   "cell_type": "markdown",
   "metadata": {},
   "source": [
    "## 데이터 출력하기"
   ]
  },
  {
   "cell_type": "markdown",
   "metadata": {},
   "source": [
    "### CSV 파일 저장"
   ]
  },
  {
   "cell_type": "code",
   "execution_count": null,
   "metadata": {},
   "outputs": [],
   "source": [
    "import pandas as pd\n",
    "\n",
    "dict_data = {\n",
    "    '이름':['기범', '혜리', '동엽'],\n",
    "    '국어':[100, 80, 30], '수학':[90, 80, 50],\n",
    "    '영어':[100, 40, 90], '음악':[80, 100, 40]\n",
    "}\n",
    "\n",
    "df = pd.DataFrame(dict_data)\n",
    "df.set_index('이름', inplace=True)\n",
    "print(df)\n",
    "\n",
    "df.to_csv('./write_sample1.csv')"
   ]
  },
  {
   "cell_type": "markdown",
   "metadata": {},
   "source": [
    "### 엑셀 파일 저장"
   ]
  },
  {
   "cell_type": "code",
   "execution_count": null,
   "metadata": {},
   "outputs": [],
   "source": [
    "import pandas as pd\n",
    "\n",
    "dict_data = {\n",
    "    '이름':['기범', '혜리', '동엽'],\n",
    "    '국어':[100, 80, 30], '수학':[90, 80, 50],\n",
    "    '영어':[100, 40, 90], '음악':[80, 100, 40]\n",
    "}\n",
    "\n",
    "df = pd.DataFrame(dict_data)\n",
    "df.set_index('이름', inplace=True)\n",
    "print(df)\n",
    "\n",
    "df.to_excel('./write_sample1.xlsx')"
   ]
  },
  {
   "cell_type": "markdown",
   "metadata": {},
   "source": [
    "### JSON 파일 저장"
   ]
  },
  {
   "cell_type": "code",
   "execution_count": null,
   "metadata": {
    "scrolled": true
   },
   "outputs": [],
   "source": [
    "import pandas as pd\n",
    "\n",
    "dict_data = {\n",
    "    '이름':['기범', '혜리', '동엽'],\n",
    "    '국어':[100, 80, 30], '수학':[90, 80, 50],\n",
    "    '영어':[100, 40, 90], '음악':[80, 100, 40]\n",
    "}\n",
    "\n",
    "df = pd.DataFrame(dict_data)\n",
    "df.set_index('이름', inplace=True)\n",
    "print(df)\n",
    "\n",
    "json_file = './write_sample1.json'\n",
    "\n",
    "with open(json_file, 'w', encoding='utf-8') as file:\n",
    "    df.to_json(file, force_ascii=False)"
   ]
  }
 ],
 "metadata": {
  "kernelspec": {
   "display_name": "Python 3",
   "language": "python",
   "name": "python3"
  },
  "language_info": {
   "codemirror_mode": {
    "name": "ipython",
    "version": 3
   },
   "file_extension": ".py",
   "mimetype": "text/x-python",
   "name": "python",
   "nbconvert_exporter": "python",
   "pygments_lexer": "ipython3",
   "version": "3.7.6"
  }
 },
 "nbformat": 4,
 "nbformat_minor": 4
}
