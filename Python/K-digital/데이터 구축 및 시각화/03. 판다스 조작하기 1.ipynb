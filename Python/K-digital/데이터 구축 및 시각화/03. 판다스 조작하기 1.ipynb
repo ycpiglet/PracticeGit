{
 "cells": [
  {
   "cell_type": "code",
   "execution_count": null,
   "metadata": {},
   "outputs": [],
   "source": [
    "import pandas as pd\n",
    "import seaborn as sns\n",
    "import warnings\n",
    "warnings.filterwarnings(\"ignore\")"
   ]
  },
  {
   "cell_type": "markdown",
   "metadata": {},
   "source": [
    "# 판다스 자료구조"
   ]
  },
  {
   "cell_type": "markdown",
   "metadata": {},
   "source": [
    "## 시리즈(Series) 선언"
   ]
  },
  {
   "cell_type": "code",
   "execution_count": null,
   "metadata": {},
   "outputs": [],
   "source": [
    "'''\n",
    "    딕셔너리 => 시리즈 변환\n",
    "    pandas.Sereis(딕셔너리\u001d",
    ")\n",
    "'''\n",
    "\n",
    "import pandas as pd\n",
    "\n",
    "dict_data = {'a':1, 'b':2, 'c':3}\n",
    "\n",
    "series = pd.Series(dict_data)\n",
    "\n",
    "print(type(series))\n",
    "print(series)"
   ]
  },
  {
   "cell_type": "markdown",
   "metadata": {},
   "source": [
    "## 인덱스 구조"
   ]
  },
  {
   "cell_type": "code",
   "execution_count": null,
   "metadata": {},
   "outputs": [],
   "source": [
    "'''\n",
    "    인덱스 배열: Series.index\n",
    "    데이터 값 배열: Series.values\n",
    "'''\n",
    "import pandas as pd\n",
    "\n",
    "lis_data = ['2021-04-26', '철수', '남', 100, True]\n",
    "series = pd.Series(lis_data)\n",
    "\n",
    "print(series)\n",
    "print('\\n')\n",
    "print(series.index)\n",
    "print('\\n')\n",
    "print(series.values)"
   ]
  },
  {
   "cell_type": "markdown",
   "metadata": {},
   "source": [
    "## 시리즈 원소 선택"
   ]
  },
  {
   "cell_type": "code",
   "execution_count": null,
   "metadata": {},
   "outputs": [],
   "source": [
    "import pandas as pd\n",
    "\n",
    "lis_data = ['2021-04-26', '철수', '남', 100, True]\n",
    "index_names = ['날짜', '이름', '성별', '점수', '전학여부']\n",
    "\n",
    "series = pd.Series(lis_data, index = index_names)\n",
    "\n",
    "print(series)\n",
    "print('\\n')\n",
    "print(series[0], series['이름'])\n",
    "print('\\n')\n",
    "print(series[[0, 2]])\n",
    "print('\\n')\n",
    "print(series[['날짜', '전학여부']])"
   ]
  },
  {
   "cell_type": "code",
   "execution_count": null,
   "metadata": {},
   "outputs": [],
   "source": [
    "print(series)\n",
    "print('\\n')\n",
    "print(series[2:5])\n",
    "print('\\n')\n",
    "print(series['성별':'전학여부'])"
   ]
  },
  {
   "cell_type": "markdown",
   "metadata": {},
   "source": [
    "## 데이터프레임 (DataFrame) 선언"
   ]
  },
  {
   "cell_type": "code",
   "execution_count": null,
   "metadata": {},
   "outputs": [],
   "source": [
    "import pandas as pd\n",
    "\n",
    "dic_data = {\n",
    "    'col1': [0,1,2],\n",
    "    'col2': [3,4,5],\n",
    "    'col3': [6,7,8],\n",
    "    'col4': [9,10,11]\n",
    "}\n",
    "\n",
    "df = pd.DataFrame(dic_data)\n",
    "\n",
    "print(type(df))\n",
    "df"
   ]
  },
  {
   "cell_type": "markdown",
   "metadata": {},
   "source": [
    "## 행/열 이름 설정"
   ]
  },
  {
   "cell_type": "code",
   "execution_count": null,
   "metadata": {},
   "outputs": [],
   "source": [
    "import pandas as pd\n",
    "\n",
    "df = pd.DataFrame(\n",
    "    [['남', 30, '경기고'], ['여', 25, '서울고']],\n",
    "    index = ['기범', '혜리'],\n",
    "    columns = ['gender', 'age', 'school']\n",
    ")\n",
    "\n",
    "print(df)\n",
    "print('\\n')\n",
    "print(df.index)\n",
    "print('\\n')\n",
    "print(df.values)"
   ]
  },
  {
   "cell_type": "code",
   "execution_count": null,
   "metadata": {},
   "outputs": [],
   "source": [
    "print(df)"
   ]
  },
  {
   "cell_type": "code",
   "execution_count": null,
   "metadata": {},
   "outputs": [],
   "source": [
    "df.index = ['이름1', '이름2']\n",
    "df.columns = ['성별', '연령', '학교']\n",
    "print(df)"
   ]
  },
  {
   "cell_type": "code",
   "execution_count": null,
   "metadata": {},
   "outputs": [],
   "source": [
    "df.rename(columns = {'gender':'성별', 'age':'연령', 'school':'학교'})\n",
    "df.rename(index = {'기범':'이름1', '혜리': '이름2'})\n",
    "print(df)"
   ]
  },
  {
   "cell_type": "markdown",
   "metadata": {},
   "source": [
    "## 행 삭제"
   ]
  },
  {
   "cell_type": "code",
   "execution_count": null,
   "metadata": {},
   "outputs": [],
   "source": [
    "import pandas as pd\n",
    "\n",
    "exam_data = {\n",
    "    '국어':[100, 80, 30], '수학':[90, 80, 50],\n",
    "    '영어':[100, 40, 90], '음악':[80, 100, 40]\n",
    "}\n",
    "df = pd.DataFrame(exam_data, index = ['기범', '혜리', '동엽'])\n",
    "\n",
    "print(df)\n",
    "print('\\n')\n",
    "\n",
    "df2 = df[:]\n",
    "df2.drop('기범', inplace = True)\n",
    "print(df2)\n",
    "print('\\n')\n",
    "\n",
    "df3 = df[:]\n",
    "df3.drop(['기범', '동엽'], axis = 0, inplace = True)\n",
    "print(df3)"
   ]
  },
  {
   "cell_type": "markdown",
   "metadata": {},
   "source": [
    "## 열 삭제"
   ]
  },
  {
   "cell_type": "code",
   "execution_count": null,
   "metadata": {},
   "outputs": [],
   "source": [
    "exam_data = {\n",
    "    '국어':[100, 80, 30], '수학':[90, 80, 50],\n",
    "    '영어':[100, 40, 90], '음악':[80, 100, 40]\n",
    "}\n",
    "df = pd.DataFrame(exam_data, index = ['기범', '혜리', '동엽'])\n",
    "\n",
    "print(df)\n",
    "print('\\n')\n",
    "\n",
    "df2 = df[:]\n",
    "df2.drop('국어', axis = 1, inplace = True)\n",
    "print(df2)\n",
    "print('\\n')\n",
    "\n",
    "df3 = df[:]\n",
    "df3.drop(['국어', '음악'], axis = 1, inplace = True)\n",
    "print(df3)"
   ]
  },
  {
   "cell_type": "markdown",
   "metadata": {},
   "source": [
    "## 행 선택"
   ]
  },
  {
   "cell_type": "code",
   "execution_count": null,
   "metadata": {},
   "outputs": [],
   "source": [
    "exam_data = {\n",
    "    '국어':[100, 80, 30], '수학':[90, 80, 50],\n",
    "    '영어':[100, 40, 90], '음악':[80, 100, 40]\n",
    "}\n",
    "df = pd.DataFrame(exam_data, index = ['기범', '혜리', '동엽'])\n",
    "\n",
    "print(df)\n",
    "print('\\n')\n",
    "\n",
    "location = df.loc[['기범','혜리']]\n",
    "print(location)\n",
    "print('\\n')\n",
    "\n",
    "ilocation = df.iloc[[1, 2]]\n",
    "print(ilocation)"
   ]
  },
  {
   "cell_type": "markdown",
   "metadata": {},
   "source": [
    "## iloc 활용"
   ]
  },
  {
   "cell_type": "code",
   "execution_count": null,
   "metadata": {},
   "outputs": [],
   "source": [
    "exam_data = {\n",
    "    '국어':[100, 80, 30, 90], '수학':[90, 80, 50, 30],\n",
    "    '영어':[100, 40, 90, 80], '음악':[80, 100, 40, 50]\n",
    "}\n",
    "df = pd.DataFrame(exam_data, index = ['기범', '혜리', '동엽', '나래'])\n",
    "\n",
    "print(df)\n",
    "print('\\n')\n",
    "\n",
    "df1 = df.iloc[0:3:2]\n",
    "print(df1)\n",
    "print('\\n')\n",
    "\n",
    "df2 = df.iloc[::-1]\n",
    "print(df2)"
   ]
  },
  {
   "cell_type": "markdown",
   "metadata": {},
   "source": [
    "## 열 선택"
   ]
  },
  {
   "cell_type": "code",
   "execution_count": null,
   "metadata": {},
   "outputs": [],
   "source": [
    "exam_data = {\n",
    "    '국어':[100, 80, 30], '수학':[90, 80, 50],\n",
    "    '영어':[100, 40, 90], '음악':[80, 100, 40]\n",
    "}\n",
    "df = pd.DataFrame(exam_data, index = ['기범', '혜리', '동엽'])\n",
    "\n",
    "print(df)\n",
    "print('\\n')\n",
    "\n",
    "col1 = df['국어']\n",
    "print(col1)\n",
    "print('\\n')\n",
    "\n",
    "df1 = df[['영어', '음악']]\n",
    "print(df1)"
   ]
  },
  {
   "cell_type": "markdown",
   "metadata": {},
   "source": [
    "## 원소 선택"
   ]
  },
  {
   "cell_type": "code",
   "execution_count": null,
   "metadata": {},
   "outputs": [],
   "source": [
    "exam_data = {\n",
    "    '국어':[100, 80, 30, 90], '수학':[90, 80, 50, 30],\n",
    "    '영어':[100, 40, 90, 80], '음악':[80, 100, 40, 50]\n",
    "}\n",
    "df = pd.DataFrame(exam_data, index = ['기범', '혜리', '동엽', '나래'])\n",
    "\n",
    "print(df)\n",
    "print('\\n')\n",
    "\n",
    "elem1 = df.loc['혜리', '영어']\n",
    "print('혜리의 영어 점수:', elem1)\n",
    "\n",
    "elem2 = df.iloc[0, 3]\n",
    "print('기범(0)의 음악(3) 점수', elem2)"
   ]
  },
  {
   "cell_type": "markdown",
   "metadata": {},
   "source": [
    "## 행 추가"
   ]
  },
  {
   "cell_type": "code",
   "execution_count": null,
   "metadata": {},
   "outputs": [],
   "source": [
    "exam_data = {\n",
    "    '이름':['기범', '혜리', '동엽'],\n",
    "    '국어':[100, 80, 30], '수학':[90, 80, 50],\n",
    "    '영어':[100, 40, 90], '음악':[80, 100, 40]\n",
    "}\n",
    "df = pd.DataFrame(exam_data)\n",
    "\n",
    "print(df)\n",
    "print('\\n')\n",
    "\n",
    "df.loc[4] = ['동현', 80, 90, 30, 40]\n",
    "print(df)\n",
    "print('\\n')\n",
    "\n",
    "df.loc[5] = df.loc[0]\n",
    "print(df)"
   ]
  },
  {
   "cell_type": "markdown",
   "metadata": {},
   "source": [
    "## 열 추가"
   ]
  },
  {
   "cell_type": "code",
   "execution_count": null,
   "metadata": {},
   "outputs": [],
   "source": [
    "exam_data = {\n",
    "    '국어':[100, 80, 30, 90], '수학':[90, 80, 50, 30],\n",
    "    '영어':[100, 40, 90, 80], '음악':[80, 100, 40, 50]\n",
    "}\n",
    "df = pd.DataFrame(exam_data, index = ['기범', '혜리', '동엽', '나래'])\n",
    "\n",
    "print(df)\n",
    "print('\\n')\n",
    "\n",
    "df['미술'] = 70\n",
    "print(df)\n",
    "print('\\n')\n",
    "\n",
    "df['체육'] = [10, 20, 30, 40]\n",
    "print(df)"
   ]
  },
  {
   "cell_type": "markdown",
   "metadata": {},
   "source": [
    "## 원소 값 변경"
   ]
  },
  {
   "cell_type": "code",
   "execution_count": null,
   "metadata": {},
   "outputs": [],
   "source": [
    "exam_data = {\n",
    "    '국어':[100, 80, 30, 90], '수학':[90, 80, 50, 30],\n",
    "    '영어':[100, 40, 90, 80], '음악':[80, 100, 40, 50]\n",
    "}\n",
    "df = pd.DataFrame(exam_data, index = ['기범', '혜리', '동엽', '나래'])\n",
    "\n",
    "print(df)\n",
    "print('\\n')\n",
    "\n",
    "df.loc['혜리', '영어'] = 80\n",
    "df.iloc[0, 3] = 30\n",
    "\n",
    "print(df)"
   ]
  },
  {
   "cell_type": "markdown",
   "metadata": {},
   "source": [
    "## 행/열 위치 바꾸기 (transpose)"
   ]
  },
  {
   "cell_type": "code",
   "execution_count": null,
   "metadata": {},
   "outputs": [],
   "source": [
    "exam_data = {\n",
    "    '국어':[100, 80, 30, 90], '수학':[90, 80, 50, 30],\n",
    "    '영어':[100, 40, 90, 80], '음악':[80, 100, 40, 50]\n",
    "}\n",
    "df = pd.DataFrame(exam_data, index = ['기범', '혜리', '동엽', '나래'])\n",
    "\n",
    "print(df)\n",
    "print('\\n')\n",
    "\n",
    "df = df.transpose()\n",
    "print(df)\n",
    "print('\\n')\n",
    "\n",
    "df = df.T\n",
    "print(df)"
   ]
  },
  {
   "cell_type": "markdown",
   "metadata": {},
   "source": [
    "## 데이터 프레임 정렬"
   ]
  },
  {
   "cell_type": "code",
   "execution_count": null,
   "metadata": {},
   "outputs": [],
   "source": [
    "import pandas as pd\n",
    "\n",
    "dic_data = {\n",
    "    'col1': [0,1,2],\n",
    "    'col2': [5,4,3],\n",
    "    'col3': [6,7,8],\n",
    "    'col4': [9,11,10]\n",
    "}\n",
    "\n",
    "df = pd.DataFrame(dic_data, index = ['row1', 'row2', 'row3'])\n",
    "print(df)\n",
    "print('\\n')\n",
    "\n",
    "idf = df.sort_index(ascending=False)\n",
    "print(idf)"
   ]
  },
  {
   "cell_type": "code",
   "execution_count": null,
   "metadata": {},
   "outputs": [],
   "source": [
    "import pandas as pd\n",
    "\n",
    "dic_data = {\n",
    "    'col1': [0,1,2],\n",
    "    'col2': [5,4,3],\n",
    "    'col3': [6,7,8],\n",
    "    'col4': [9,11,10]\n",
    "}\n",
    "\n",
    "df = pd.DataFrame(dic_data, index = ['row1', 'row2', 'row3'])\n",
    "print(df)\n",
    "print('\\n')\n",
    "\n",
    "idf = df.sort_values(by = 'col4', ascending=True)\n",
    "print(idf)"
   ]
  }
 ],
 "metadata": {
  "kernelspec": {
   "display_name": "Python 3",
   "language": "python",
   "name": "python3"
  },
  "language_info": {
   "codemirror_mode": {
    "name": "ipython",
    "version": 3
   },
   "file_extension": ".py",
   "mimetype": "text/x-python",
   "name": "python",
   "nbconvert_exporter": "python",
   "pygments_lexer": "ipython3",
   "version": "3.7.6"
  }
 },
 "nbformat": 4,
 "nbformat_minor": 4
}
